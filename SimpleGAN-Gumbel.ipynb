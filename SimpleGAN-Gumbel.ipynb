{
 "cells": [
  {
   "cell_type": "markdown",
   "metadata": {},
   "source": [
    "### Simple lasagne GAN on NotMnist\n",
    "\n",
    "NotMnist is is  blah,\n",
    "we do blah blah."
   ]
  },
  {
   "cell_type": "code",
   "execution_count": 1,
   "metadata": {
    "collapsed": false
   },
   "outputs": [
    {
     "name": "stdout",
     "output_type": "stream",
     "text": [
      "--2017-01-07 07:29:30--  https://raw.githubusercontent.com/yandexdataschool/gumbel_lstm/master/gumbel_sigmoid.py\n",
      "Resolving raw.githubusercontent.com (raw.githubusercontent.com)... 151.101.36.133\n",
      "Connecting to raw.githubusercontent.com (raw.githubusercontent.com)|151.101.36.133|:443... connected.\n",
      "HTTP request sent, awaiting response... 200 OK\n",
      "Length: 4138 (4.0K) [text/plain]\n",
      "Saving to: ‘gumbel_sigmoid.py’\n",
      "\n",
      "100%[======================================>] 4,138       --.-K/s   in 0s      \n",
      "\n",
      "2017-01-07 07:29:30 (59.7 MB/s) - ‘gumbel_sigmoid.py’ saved [4138/4138]\n",
      "\n"
     ]
    }
   ],
   "source": [
    "!wget https://raw.githubusercontent.com/yandexdataschool/gumbel_lstm/master/gumbel_sigmoid.py -O gumbel_sigmoid.py"
   ]
  },
  {
   "cell_type": "code",
   "execution_count": 2,
   "metadata": {
    "collapsed": false,
    "scrolled": true
   },
   "outputs": [
    {
     "name": "stdout",
     "output_type": "stream",
     "text": [
      "--2017-01-07 07:29:30--  http://yaroslavvb.com/upload/notMNIST/notMNIST_small.tar.gz\n",
      "Resolving yaroslavvb.com (yaroslavvb.com)... 129.121.4.193\n",
      "Connecting to yaroslavvb.com (yaroslavvb.com)|129.121.4.193|:80... connected.\n",
      "HTTP request sent, awaiting response... 200 OK\n",
      "Length: 8458043 (8.1M) [application/x-gzip]\n",
      "Saving to: ‘notMNIST_small.tar.gz.4’\n",
      "\n",
      "100%[======================================>] 8,458,043   2.31MB/s   in 3.5s   \n",
      "\n",
      "2017-01-07 07:29:34 (2.31 MB/s) - ‘notMNIST_small.tar.gz.4’ saved [8458043/8458043]\n",
      "\n"
     ]
    }
   ],
   "source": [
    "#get dataset\n",
    "\n",
    "#notmnist small\n",
    "!wget http://yaroslavvb.com/upload/notMNIST/notMNIST_small.tar.gz\n",
    "!tar -zxvf notMNIST_small.tar.gz > untar_notmnist.log"
   ]
  },
  {
   "cell_type": "code",
   "execution_count": 135,
   "metadata": {
    "collapsed": false
   },
   "outputs": [],
   "source": [
    "from matplotlib import pyplot as plt\n",
    "%matplotlib inline\n",
    "plt.rcParams.update({'axes.titlesize': 'small'})\n",
    "import numpy as np\n",
    "IMG_SHAPE = (28,28)"
   ]
  },
  {
   "cell_type": "code",
   "execution_count": 136,
   "metadata": {
    "collapsed": false
   },
   "outputs": [
    {
     "name": "stdout",
     "output_type": "stream",
     "text": [
      "env: THEANO_FLAGS=\"device=gpu7\"\n"
     ]
    }
   ],
   "source": [
    "%env THEANO_FLAGS=\"device=gpu7\"\n",
    "\n",
    "import theano\n",
    "from gumbel_sigmoid import GumbelSigmoid\n",
    "\n",
    "tau = theano.shared(np.float32(0.2), name=\"gumbel_temp\")\n",
    "x = theano.tensor.tensor4(dtype=\"float32\")\n",
    "\n",
    "\n",
    "gumb = theano.function([x], GumbelSigmoid(t=tau)(x))"
   ]
  },
  {
   "cell_type": "code",
   "execution_count": 137,
   "metadata": {
    "collapsed": false
   },
   "outputs": [
    {
     "name": "stdout",
     "output_type": "stream",
     "text": [
      "fuckup: ./notMNIST_small/A/RGVtb2NyYXRpY2FCb2xkT2xkc3R5bGUgQm9sZC50dGY=.png\n",
      "fuckup: ./notMNIST_small/F/Q3Jvc3NvdmVyIEJvbGRPYmxpcXVlLnR0Zg==.png\n"
     ]
    }
   ],
   "source": [
    "from scipy.misc import imread,imresize\n",
    "from glob import glob\n",
    "\n",
    "data = []\n",
    "for path in glob('./notMNIST_small/*/*'):\n",
    "    try:\n",
    "        data.append(imresize(imread(path),IMG_SHAPE))\n",
    "    except:\n",
    "        print \"fuckup:\",path\n",
    "        \n",
    "data = np.stack(data)[:,None]\n",
    "data = data.astype(np.float32)\n",
    "\n",
    "#now we make pixels to have a value of 0 or 1\n",
    "data /= 256\n",
    "data = data.round()\n",
    "\n",
    "data-=0.5\n",
    "\n",
    "data*= 10\n",
    "\n",
    "#data = gumb(data)\n"
   ]
  },
  {
   "cell_type": "code",
   "execution_count": 138,
   "metadata": {
    "collapsed": false
   },
   "outputs": [
    {
     "data": {
      "text/plain": [
       "<matplotlib.image.AxesImage at 0x7effe0e48fd0>"
      ]
     },
     "execution_count": 138,
     "metadata": {},
     "output_type": "execute_result"
    },
    {
     "data": {
      "image/png": "[encoded data removed]",
      "text/plain": [
       "<matplotlib.figure.Figure at 0x7effe6089d90>"
      ]
     },
     "metadata": {},
     "output_type": "display_data"
    }
   ],
   "source": [
    "plt.imshow(data[np.random.randint(data.shape[0]),0], cmap=\"gray\", interpolation=\"none\")"
   ]
  },
  {
   "cell_type": "markdown",
   "metadata": {},
   "source": [
    "-----"
   ]
  },
  {
   "cell_type": "code",
   "execution_count": 139,
   "metadata": {
    "collapsed": false,
    "scrolled": false
   },
   "outputs": [],
   "source": [
    "import theano\n",
    "import theano.tensor as T\n",
    "import lasagne\n",
    "from lasagne.layers import *\n",
    "from lasagne.regularization import regularize_layer_params, l2\n",
    "from lasagne.nonlinearities import leaky_rectify, linear, sigmoid, rectify\n",
    "from lasagne.init import Normal #scince bad init can blow the network up =c\n",
    "theano.config.floatX = 'float32'"
   ]
  },
  {
   "cell_type": "code",
   "execution_count": 140,
   "metadata": {
    "collapsed": false,
    "scrolled": false
   },
   "outputs": [
    {
     "name": "stdout",
     "output_type": "stream",
     "text": [
      "(None, 1, 28, 28)\n"
     ]
    }
   ],
   "source": [
    "\n",
    "\n",
    "inputZ = T.matrix('input_noise', 'float32')\n",
    "inputX = T.tensor4('input_img', 'float32') # [batch_size, num_channels, height, width]\n",
    "\n",
    "CODE_SIZE = 128 # size of uniform noise\n",
    "\n",
    "class generator:\n",
    "    l_in = InputLayer((None, CODE_SIZE), input_var=inputZ, name='g_input')\n",
    "\n",
    "    l_dense0 = DenseLayer(l_in,20*8*8,nonlinearity=T.tanh)\n",
    "    \n",
    "    l_reshape = ReshapeLayer(l_dense0, (-1, 20, 8, 8), name='dense_reshaped')\n",
    "    \n",
    "    l_deconv0 = Deconv2DLayer(l_reshape, 64, 5, nonlinearity=T.tanh, name='g_deconv0')\n",
    "    \n",
    "    l_upscale = Upscale2DLayer(l_deconv0, 2)\n",
    "    \n",
    "    l_deconv1 = Deconv2DLayer(l_upscale, 100, 3, nonlinearity=T.tanh, name='g_deconv1')\n",
    "    \n",
    "    l_deconv2 = Deconv2DLayer(l_deconv1, 100, 3, nonlinearity=T.tanh, name='g_deconv2')\n",
    "    \n",
    "    #l_downscale_conv = Conv2DLayer(l_deconv2, 32, 3, nonlinearity=rectify, name='g_downscale_conv')\n",
    "    #l_gen = Deconv2DLayer(l_downscale_conv, 1, 3, nonlinearity=None, name='g_deconv_out')\n",
    "    l_deconv3 = Deconv2DLayer(l_deconv2, 64, 3, nonlinearity=sigmoid, name='g_deconv3')\n",
    "    l_gen = Conv2DLayer(l_deconv3, 1, 3, nonlinearity=GumbelSigmoid(tau), name='g_deconv_out')\n",
    "    \n",
    "    print l_gen.output_shape\n",
    "    #l_gen = Conv2DLayer(l_deconv, 1, 1, nonlinearity=linear, name='g_gen_conv')\n",
    "    \n",
    "    assert len(l_gen.output_shape)==4 and l_gen.output_shape[1:] == (1,)+IMG_SHAPE    \n",
    "    weights = get_all_params(l_gen, trainable=True)\n",
    "    \n",
    "    sample = theano.function([inputZ],get_output(l_gen))\n",
    "    \n",
    "    \n",
    "class discriminator:\n",
    "    l_in = InputLayer((None, 1, IMG_SHAPE[0], IMG_SHAPE[1]),W = Normal(1e-5), name='d_input')\n",
    "    l_conv0 = Conv2DLayer(l_in, 32, 5, nonlinearity=T.tanh)\n",
    "    l_pooling0 = Pool2DLayer(l_conv0, 3)\n",
    "    l_conv1 = Conv2DLayer(l_pooling0, 32, 5, nonlinearity=T.tanh)\n",
    "    l_dense0 = DenseLayer(l_conv1, 32,nonlinearity=T.tanh)\n",
    "    \n",
    "    \n",
    "    l_prob = DenseLayer(l_dense0,1,W = Normal(1e-5),nonlinearity=sigmoid) #P(real|x)\n",
    "    \n",
    "    l_prob_regularization = regularize_layer_params(l_prob, l2)*1e-4\n",
    "    \n",
    "    \n",
    "    weights = get_all_params(l_prob, trainable=True)\n",
    "    \n",
    "    predict = theano.function([inputX],get_output(l_prob,inputX))\n",
    "    \n",
    "class training:\n",
    "    \n",
    "    #D(data)\n",
    "    p_real_is_real = get_output(discriminator.l_prob, inputs=GumbelSigmoid(t=tau)(inputX))\n",
    "    \n",
    "    #D(G(z))\n",
    "    generated_img = get_output(generator.l_gen)\n",
    "    p_gen_is_real = get_output(discriminator.l_prob, generated_img)\n",
    "    \n",
    "    ########################\n",
    "    ###generator training###\n",
    "    ########################\n",
    "    \n",
    "    g_loss = -T.log(p_gen_is_real).mean()\n",
    "    g_updates = lasagne.updates.adagrad(g_loss, generator.weights, 0.01)\n",
    "    g_train_step = theano.function([inputZ], g_loss, updates=g_updates, allow_input_downcast=True)\n",
    "\n",
    "    \n",
    "    ########################\n",
    "    #discriminator training#\n",
    "    ########################\n",
    "    d_loss = -(T.log(p_real_is_real) + T.log(1-p_gen_is_real)).mean() + discriminator.l_prob_regularization\n",
    "\n",
    "    d_updates = lasagne.updates.adagrad(d_loss, discriminator.weights, 0.01)\n",
    "    d_train_step = theano.function([inputX, inputZ], d_loss, updates=d_updates, allow_input_downcast=True)\n",
    "    "
   ]
  },
  {
   "cell_type": "code",
   "execution_count": 8,
   "metadata": {
    "collapsed": false
   },
   "outputs": [],
   "source": [
    "from agentnet.utils.persistence import load"
   ]
  },
  {
   "cell_type": "code",
   "execution_count": 9,
   "metadata": {
    "collapsed": false
   },
   "outputs": [],
   "source": [
    "#load(generator.l_gen, \"notMNIST_generator.net\")\n",
    "#load(discriminator.l_prob,\"notMNIST_discriminator.net\")"
   ]
  },
  {
   "cell_type": "markdown",
   "metadata": {},
   "source": [
    "### Auxilary functions\n",
    "Sampling, visualization"
   ]
  },
  {
   "cell_type": "code",
   "execution_count": 141,
   "metadata": {
    "collapsed": true
   },
   "outputs": [],
   "source": [
    "def sample_noise_batch(bsize):\n",
    "    return np.random.normal(size=(bsize, CODE_SIZE)).astype('float32')\n",
    "\n",
    "def sample_data_batch(bsize):\n",
    "    idxs = np.random.choice(np.arange(data.shape[0]), size=bsize)\n",
    "    return data[idxs]\n",
    "\n",
    "def sample_images(nrow,ncol, sharp=False):\n",
    "    images = generator.sample(sample_noise_batch(bsize=nrow*ncol))\n",
    "    for i in range(nrow*ncol):\n",
    "        plt.subplot(nrow,ncol,i+1)\n",
    "        if sharp:\n",
    "            plt.imshow(images[i].reshape(IMG_SHAPE),cmap=\"gray\", interpolation=\"none\")\n",
    "        else:\n",
    "            plt.imshow(images[i].reshape(IMG_SHAPE),cmap=\"gray\")\n",
    "    plt.show()\n",
    "\n",
    "def sample_probas(bsize):\n",
    "    plt.hist(discriminator.predict(sample_data_batch(bsize)).ravel(),label='D(x)', alpha=0.5)\n",
    "    plt.hist(discriminator.predict(generator.sample(sample_noise_batch(bsize))),label='D(G(z))',alpha=0.5)\n",
    "    plt.legend(loc='best')\n",
    "    plt.xlim(0,1)\n",
    "    plt.show()"
   ]
  },
  {
   "cell_type": "markdown",
   "metadata": {},
   "source": [
    "### Training"
   ]
  },
  {
   "cell_type": "code",
   "execution_count": 157,
   "metadata": {
    "collapsed": false,
    "scrolled": true
   },
   "outputs": [
    {
     "name": "stdout",
     "output_type": "stream",
     "text": [
      "0.902303993702 0.41473454237\n"
     ]
    },
    {
     "data": {
      "image/png": "[encoded data removed]",
      "text/plain": [
       "<matplotlib.figure.Figure at 0x7effb914ce10>"
      ]
     },
     "metadata": {},
     "output_type": "display_data"
    },
    {
     "data": {
      "image/png": "[encoded data removed]",
      "text/plain": [
       "<matplotlib.figure.Figure at 0x7effc381bdd0>"
      ]
     },
     "metadata": {},
     "output_type": "display_data"
    },
    {
     "name": "stderr",
     "output_type": "stream",
     "text": [
      " 11%|█         | 11065/100000 [17:22<2:18:00, 10.74it/s]\n"
     ]
    },
    {
     "ename": "KeyboardInterrupt",
     "evalue": "",
     "output_type": "error",
     "traceback": [
      "\u001b[0;31m---------------------------------------------------------------------------\u001b[0m",
      "\u001b[0;31mKeyboardInterrupt\u001b[0m                         Traceback (most recent call last)",
      "\u001b[0;32m<ipython-input-157-56c115fb1e2d>\u001b[0m in \u001b[0;36m<module>\u001b[0;34m()\u001b[0m\n\u001b[1;32m      8\u001b[0m         \u001b[0mtraining\u001b[0m\u001b[0;34m.\u001b[0m\u001b[0md_train_step\u001b[0m\u001b[0;34m(\u001b[0m\u001b[0msample_data_batch\u001b[0m\u001b[0;34m(\u001b[0m\u001b[0;36m100\u001b[0m\u001b[0;34m)\u001b[0m\u001b[0;34m,\u001b[0m \u001b[0msample_noise_batch\u001b[0m\u001b[0;34m(\u001b[0m\u001b[0;36m100\u001b[0m\u001b[0;34m)\u001b[0m\u001b[0;34m)\u001b[0m\u001b[0;34m\u001b[0m\u001b[0m\n\u001b[1;32m      9\u001b[0m     \u001b[0;32mfor\u001b[0m \u001b[0mi\u001b[0m \u001b[0;32min\u001b[0m \u001b[0mrange\u001b[0m\u001b[0;34m(\u001b[0m\u001b[0;36m2\u001b[0m\u001b[0;34m)\u001b[0m\u001b[0;34m:\u001b[0m\u001b[0;34m\u001b[0m\u001b[0m\n\u001b[0;32m---> 10\u001b[0;31m         \u001b[0mtraining\u001b[0m\u001b[0;34m.\u001b[0m\u001b[0mg_train_step\u001b[0m\u001b[0;34m(\u001b[0m\u001b[0msample_noise_batch\u001b[0m\u001b[0;34m(\u001b[0m\u001b[0;36m100\u001b[0m\u001b[0;34m)\u001b[0m\u001b[0;34m)\u001b[0m\u001b[0;34m\u001b[0m\u001b[0m\n\u001b[0m\u001b[1;32m     11\u001b[0m     \u001b[0mtau\u001b[0m\u001b[0;34m.\u001b[0m\u001b[0mset_value\u001b[0m\u001b[0;34m(\u001b[0m\u001b[0;34m(\u001b[0m\u001b[0mtau\u001b[0m\u001b[0;34m.\u001b[0m\u001b[0mget_value\u001b[0m\u001b[0;34m(\u001b[0m\u001b[0;34m)\u001b[0m\u001b[0;34m*\u001b[0m\u001b[0;34m(\u001b[0m\u001b[0;36m1\u001b[0m\u001b[0;34m-\u001b[0m\u001b[0;36m0.00008\u001b[0m\u001b[0;34m)\u001b[0m\u001b[0;34m)\u001b[0m\u001b[0;34m.\u001b[0m\u001b[0mastype\u001b[0m\u001b[0;34m(\u001b[0m\u001b[0;34m\"float32\"\u001b[0m\u001b[0;34m)\u001b[0m\u001b[0;34m)\u001b[0m\u001b[0;34m\u001b[0m\u001b[0m\n\u001b[1;32m     12\u001b[0m     \u001b[0;32mif\u001b[0m \u001b[0mepoch\u001b[0m \u001b[0;34m%\u001b[0m\u001b[0;36m1000\u001b[0m\u001b[0;34m==\u001b[0m\u001b[0;36m0\u001b[0m\u001b[0;34m:\u001b[0m\u001b[0;34m\u001b[0m\u001b[0m\n",
      "\u001b[0;32m/anaconda3/envs/py27/lib/python2.7/site-packages/theano/compile/function_module.pyc\u001b[0m in \u001b[0;36m__call__\u001b[0;34m(self, *args, **kwargs)\u001b[0m\n\u001b[1;32m    871\u001b[0m         \u001b[0;32mtry\u001b[0m\u001b[0;34m:\u001b[0m\u001b[0;34m\u001b[0m\u001b[0m\n\u001b[1;32m    872\u001b[0m             \u001b[0moutputs\u001b[0m \u001b[0;34m=\u001b[0m\u001b[0;31m\\\u001b[0m\u001b[0;34m\u001b[0m\u001b[0m\n\u001b[0;32m--> 873\u001b[0;31m                 \u001b[0mself\u001b[0m\u001b[0;34m.\u001b[0m\u001b[0mfn\u001b[0m\u001b[0;34m(\u001b[0m\u001b[0;34m)\u001b[0m \u001b[0;32mif\u001b[0m \u001b[0moutput_subset\u001b[0m \u001b[0;32mis\u001b[0m \u001b[0mNone\u001b[0m \u001b[0;32melse\u001b[0m\u001b[0;31m\\\u001b[0m\u001b[0;34m\u001b[0m\u001b[0m\n\u001b[0m\u001b[1;32m    874\u001b[0m                 \u001b[0mself\u001b[0m\u001b[0;34m.\u001b[0m\u001b[0mfn\u001b[0m\u001b[0;34m(\u001b[0m\u001b[0moutput_subset\u001b[0m\u001b[0;34m=\u001b[0m\u001b[0moutput_subset\u001b[0m\u001b[0;34m)\u001b[0m\u001b[0;34m\u001b[0m\u001b[0m\n\u001b[1;32m    875\u001b[0m         \u001b[0;32mexcept\u001b[0m \u001b[0mException\u001b[0m\u001b[0;34m:\u001b[0m\u001b[0;34m\u001b[0m\u001b[0m\n",
      "\u001b[0;31mKeyboardInterrupt\u001b[0m: "
     ]
    }
   ],
   "source": [
    "from IPython import display\n",
    "from tqdm import tqdm\n",
    "\n",
    "\n",
    "tau.set_value(1.0)\n",
    "for epoch in tqdm(range(100000)):\n",
    "    for i in range(1):\n",
    "        training.d_train_step(sample_data_batch(100), sample_noise_batch(100))\n",
    "    for i in range(2):\n",
    "        training.g_train_step(sample_noise_batch(100))\n",
    "    tau.set_value((tau.get_value()*(1-0.00008)).astype(\"float32\"))\n",
    "    if epoch %1000==0:\n",
    "        display.clear_output(wait=True)\n",
    "        print(training.d_train_step(sample_data_batch(100), sample_noise_batch(100))), tau.get_value()\n",
    "        sample_images(2,3,True)\n",
    "        sample_probas(1000)\n",
    "        "
   ]
  },
  {
   "cell_type": "code",
   "execution_count": null,
   "metadata": {
    "collapsed": false,
    "scrolled": true
   },
   "outputs": [],
   "source": [
    "training.g_train_step(sample_noise_batch(100))"
   ]
  },
  {
   "cell_type": "code",
   "execution_count": 8,
   "metadata": {
    "collapsed": true
   },
   "outputs": [],
   "source": [
    "from agentnet.utils.persistence import save"
   ]
  },
  {
   "cell_type": "code",
   "execution_count": 9,
   "metadata": {
    "collapsed": true
   },
   "outputs": [],
   "source": [
    "#save(generator.l_gen, \"notMNIST_generator.net\")\n",
    "#save(discriminator.l_prob,\"notMNIST_discriminator.net\")"
   ]
  },
  {
   "cell_type": "code",
   "execution_count": 174,
   "metadata": {
    "collapsed": false,
    "scrolled": true
   },
   "outputs": [
    {
     "data": {
      "image/png": "[encoded data removed]",
      "text/plain": [
       "<matplotlib.figure.Figure at 0x7effd4373cd0>"
      ]
     },
     "metadata": {},
     "output_type": "display_data"
    }
   ],
   "source": [
    "sample_images(3,5,True)"
   ]
  },
  {
   "cell_type": "code",
   "execution_count": 32,
   "metadata": {
    "collapsed": false
   },
   "outputs": [
    {
     "name": "stdout",
     "output_type": "stream",
     "text": [
      "\u001b[?1l\u001b>\n"
     ]
    }
   ],
   "source": []
  }
 ],
 "metadata": {
  "anaconda-cloud": {},
  "kernelspec": {
   "display_name": "Python [conda env:py27]",
   "language": "python",
   "name": "conda-env-py27-py"
  },
  "language_info": {
   "codemirror_mode": {
    "name": "ipython",
    "version": 2
   },
   "file_extension": ".py",
   "mimetype": "text/x-python",
   "name": "python",
   "nbconvert_exporter": "python",
   "pygments_lexer": "ipython2",
   "version": "2.7.12"
  }
 },
 "nbformat": 4,
 "nbformat_minor": 1
}
